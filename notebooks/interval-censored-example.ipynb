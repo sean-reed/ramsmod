{
 "cells": [
  {
   "cell_type": "markdown",
   "metadata": {
    "pycharm": {
     "name": "#%% md\n"
    }
   },
   "source": [
    "# Non-parametric analysis of interval-censored failure data\n",
    "This example demonstrates non-parametric reliability analysis of interval-censored failure data. "
   ]
  },
  {
   "cell_type": "code",
   "execution_count": 1,
   "metadata": {},
   "outputs": [
    {
     "name": "stdout",
     "output_type": "stream",
     "text": [
      "Requirement already satisfied: ramsmod in c:\\users\\orustandalone\\anaconda3\\lib\\site-packages (0.6.2)\n",
      "Requirement already satisfied: pandas>=0.23.0 in c:\\users\\orustandalone\\anaconda3\\lib\\site-packages (from ramsmod) (1.1.3)\n",
      "Requirement already satisfied: matplotlib>=3.0 in c:\\users\\orustandalone\\anaconda3\\lib\\site-packages (from ramsmod) (3.3.2)\n",
      "Requirement already satisfied: numpy>=1.14.0 in c:\\users\\orustandalone\\anaconda3\\lib\\site-packages (from ramsmod) (1.19.2)\n",
      "Requirement already satisfied: scipy>=1.2.0 in c:\\users\\orustandalone\\anaconda3\\lib\\site-packages (from ramsmod) (1.5.2)\n",
      "Requirement already satisfied: python-dateutil>=2.7.3 in c:\\users\\orustandalone\\anaconda3\\lib\\site-packages (from pandas>=0.23.0->ramsmod) (2.8.1)\n",
      "Requirement already satisfied: pytz>=2017.2 in c:\\users\\orustandalone\\anaconda3\\lib\\site-packages (from pandas>=0.23.0->ramsmod) (2020.1)\n",
      "Requirement already satisfied: certifi>=2020.06.20 in c:\\users\\orustandalone\\anaconda3\\lib\\site-packages (from matplotlib>=3.0->ramsmod) (2020.6.20)\n",
      "Requirement already satisfied: pyparsing!=2.0.4,!=2.1.2,!=2.1.6,>=2.0.3 in c:\\users\\orustandalone\\anaconda3\\lib\\site-packages (from matplotlib>=3.0->ramsmod) (2.4.7)\n",
      "Requirement already satisfied: kiwisolver>=1.0.1 in c:\\users\\orustandalone\\anaconda3\\lib\\site-packages (from matplotlib>=3.0->ramsmod) (1.3.0)\n",
      "Requirement already satisfied: pillow>=6.2.0 in c:\\users\\orustandalone\\anaconda3\\lib\\site-packages (from matplotlib>=3.0->ramsmod) (8.0.1)\n",
      "Requirement already satisfied: cycler>=0.10 in c:\\users\\orustandalone\\anaconda3\\lib\\site-packages (from matplotlib>=3.0->ramsmod) (0.10.0)\n",
      "Requirement already satisfied: six>=1.5 in c:\\users\\orustandalone\\anaconda3\\lib\\site-packages (from python-dateutil>=2.7.3->pandas>=0.23.0->ramsmod) (1.15.0)\n"
     ]
    }
   ],
   "source": [
    "# Following to allow use of ramsmod library.\n",
    "import sys\n",
    "!{sys.executable} -m pip install ramsmod"
   ]
  },
  {
   "cell_type": "markdown",
   "metadata": {},
   "source": [
    "### Load failure data 1\n",
    "A set of interval-censored failure data from the file [interval-censored.csv](../ramsmod/datasets/interval-censored.csv) will be analysed first. This file is in CSV (comma-separated values) format, with three columns giving the number of the observations and corresponding lower bounds (tmin) and upper bounds (tmax) of the intervals (tmin, tmax] in which failure could have occurred. This will be loaded into a Pandas DataFrame for analysis, using the first column as the index."
   ]
  },
  {
   "cell_type": "code",
   "execution_count": 2,
   "metadata": {},
   "outputs": [
    {
     "data": {
      "text/html": [
       "<div>\n",
       "<style scoped>\n",
       "    .dataframe tbody tr th:only-of-type {\n",
       "        vertical-align: middle;\n",
       "    }\n",
       "\n",
       "    .dataframe tbody tr th {\n",
       "        vertical-align: top;\n",
       "    }\n",
       "\n",
       "    .dataframe thead th {\n",
       "        text-align: right;\n",
       "    }\n",
       "</style>\n",
       "<table border=\"1\" class=\"dataframe\">\n",
       "  <thead>\n",
       "    <tr style=\"text-align: right;\">\n",
       "      <th></th>\n",
       "      <th>tmin</th>\n",
       "      <th>tmax</th>\n",
       "    </tr>\n",
       "    <tr>\n",
       "      <th>Observation #</th>\n",
       "      <th></th>\n",
       "      <th></th>\n",
       "    </tr>\n",
       "  </thead>\n",
       "  <tbody>\n",
       "    <tr>\n",
       "      <th>1</th>\n",
       "      <td>10.0</td>\n",
       "      <td>15.0</td>\n",
       "    </tr>\n",
       "    <tr>\n",
       "      <th>2</th>\n",
       "      <td>55.0</td>\n",
       "      <td>inf</td>\n",
       "    </tr>\n",
       "    <tr>\n",
       "      <th>3</th>\n",
       "      <td>30.0</td>\n",
       "      <td>35.0</td>\n",
       "    </tr>\n",
       "    <tr>\n",
       "      <th>4</th>\n",
       "      <td>15.0</td>\n",
       "      <td>20.0</td>\n",
       "    </tr>\n",
       "    <tr>\n",
       "      <th>5</th>\n",
       "      <td>30.0</td>\n",
       "      <td>35.0</td>\n",
       "    </tr>\n",
       "    <tr>\n",
       "      <th>6</th>\n",
       "      <td>20.0</td>\n",
       "      <td>25.0</td>\n",
       "    </tr>\n",
       "    <tr>\n",
       "      <th>7</th>\n",
       "      <td>45.0</td>\n",
       "      <td>inf</td>\n",
       "    </tr>\n",
       "    <tr>\n",
       "      <th>8</th>\n",
       "      <td>0.0</td>\n",
       "      <td>10.0</td>\n",
       "    </tr>\n",
       "    <tr>\n",
       "      <th>9</th>\n",
       "      <td>0.0</td>\n",
       "      <td>15.0</td>\n",
       "    </tr>\n",
       "    <tr>\n",
       "      <th>10</th>\n",
       "      <td>20.0</td>\n",
       "      <td>inf</td>\n",
       "    </tr>\n",
       "    <tr>\n",
       "      <th>11</th>\n",
       "      <td>0.0</td>\n",
       "      <td>10.0</td>\n",
       "    </tr>\n",
       "    <tr>\n",
       "      <th>12</th>\n",
       "      <td>30.0</td>\n",
       "      <td>inf</td>\n",
       "    </tr>\n",
       "    <tr>\n",
       "      <th>13</th>\n",
       "      <td>0.0</td>\n",
       "      <td>10.0</td>\n",
       "    </tr>\n",
       "    <tr>\n",
       "      <th>14</th>\n",
       "      <td>35.0</td>\n",
       "      <td>40.0</td>\n",
       "    </tr>\n",
       "    <tr>\n",
       "      <th>15</th>\n",
       "      <td>20.0</td>\n",
       "      <td>inf</td>\n",
       "    </tr>\n",
       "    <tr>\n",
       "      <th>16</th>\n",
       "      <td>45.0</td>\n",
       "      <td>inf</td>\n",
       "    </tr>\n",
       "    <tr>\n",
       "      <th>17</th>\n",
       "      <td>15.0</td>\n",
       "      <td>inf</td>\n",
       "    </tr>\n",
       "    <tr>\n",
       "      <th>18</th>\n",
       "      <td>20.0</td>\n",
       "      <td>inf</td>\n",
       "    </tr>\n",
       "    <tr>\n",
       "      <th>19</th>\n",
       "      <td>20.0</td>\n",
       "      <td>inf</td>\n",
       "    </tr>\n",
       "    <tr>\n",
       "      <th>20</th>\n",
       "      <td>20.0</td>\n",
       "      <td>inf</td>\n",
       "    </tr>\n",
       "    <tr>\n",
       "      <th>21</th>\n",
       "      <td>25.0</td>\n",
       "      <td>30.0</td>\n",
       "    </tr>\n",
       "    <tr>\n",
       "      <th>22</th>\n",
       "      <td>25.0</td>\n",
       "      <td>inf</td>\n",
       "    </tr>\n",
       "    <tr>\n",
       "      <th>23</th>\n",
       "      <td>0.0</td>\n",
       "      <td>5.0</td>\n",
       "    </tr>\n",
       "    <tr>\n",
       "      <th>24</th>\n",
       "      <td>35.0</td>\n",
       "      <td>inf</td>\n",
       "    </tr>\n",
       "    <tr>\n",
       "      <th>25</th>\n",
       "      <td>25.0</td>\n",
       "      <td>30.0</td>\n",
       "    </tr>\n",
       "    <tr>\n",
       "      <th>26</th>\n",
       "      <td>20.0</td>\n",
       "      <td>inf</td>\n",
       "    </tr>\n",
       "  </tbody>\n",
       "</table>\n",
       "</div>"
      ],
      "text/plain": [
       "               tmin  tmax\n",
       "Observation #            \n",
       "1              10.0  15.0\n",
       "2              55.0   inf\n",
       "3              30.0  35.0\n",
       "4              15.0  20.0\n",
       "5              30.0  35.0\n",
       "6              20.0  25.0\n",
       "7              45.0   inf\n",
       "8               0.0  10.0\n",
       "9               0.0  15.0\n",
       "10             20.0   inf\n",
       "11              0.0  10.0\n",
       "12             30.0   inf\n",
       "13              0.0  10.0\n",
       "14             35.0  40.0\n",
       "15             20.0   inf\n",
       "16             45.0   inf\n",
       "17             15.0   inf\n",
       "18             20.0   inf\n",
       "19             20.0   inf\n",
       "20             20.0   inf\n",
       "21             25.0  30.0\n",
       "22             25.0   inf\n",
       "23              0.0   5.0\n",
       "24             35.0   inf\n",
       "25             25.0  30.0\n",
       "26             20.0   inf"
      ]
     },
     "execution_count": 2,
     "metadata": {},
     "output_type": "execute_result"
    }
   ],
   "source": [
    "import pandas as pd\n",
    "from ramsmod.datasets import *\n",
    "\n",
    "fd1 = load_interval_censored_data()\n",
    "fd1"
   ]
  },
  {
   "cell_type": "markdown",
   "metadata": {},
   "source": [
    "### Visualise failure times\n",
    "To visualise this data set, the `plot_interval_censored` function from the plotting module of the ramsmod library will be used. This produces a plot of the intervals in which failure occurred for each observation in the data, along with the type of censoring. This function has two required arguments, the first being a Pandas Series with the lower bound times of the failure intervals for each observation and the second being a Pandas Series of the same size with the upper bound times. You can also optionally pass it an `ax` keyword argument for the Matplotlib axes to plot on (otherwise it will create a new one) and a `show_legend` keyword argument that tells it whether to display a legend on the plot (default is True). The function returns the axes with the plotted data."
   ]
  },
  {
   "cell_type": "code",
   "execution_count": 3,
   "metadata": {},
   "outputs": [
    {
     "data": {
      "text/plain": [
       "<AxesSubplot:xlabel='Time', ylabel='Observation #'>"
      ]
     },
     "execution_count": 3,
     "metadata": {},
     "output_type": "execute_result"
    },
    {
     "data": {
      "image/png": "[encoded data removed]",
      "text/plain": [
       "<Figure size 432x288 with 1 Axes>"
      ]
     },
     "metadata": {
      "needs_background": "light"
     },
     "output_type": "display_data"
    }
   ],
   "source": [
    "from ramsmod.plotting import plot_interval_censored\n",
    "\n",
    "plot_interval_censored(fd1['tmin'], fd1['tmax'])"
   ]
  },
  {
   "cell_type": "markdown",
   "metadata": {},
   "source": [
    "From the plot, we can see there are 26 observations in the failure data and that the intervals in which failures were observed or times they were right-censored.\n",
    "\n",
    "### Fitting reliability function with Turnbull method\n",
    "Next, we will fit a reliability function to the failure data using the Turnbull method. To do this, we will use the `turnbull_fit` method from the fitting module of the ramsmod library. The function has two required arguments, the first being a Pandas Series with the lower bound times of the failure intervals for each observation and the second being a Pandas Series of the same size with the upper bound times. It also has a keyword argument `tol` that defines the maximum difference between reliability values in successive iterations of the fitting procedure for convergence, the default value is 0.001. The function returns a Pandas DataFrame with the fitting results."
   ]
  },
  {
   "cell_type": "code",
   "execution_count": 4,
   "metadata": {},
   "outputs": [
    {
     "data": {
      "text/html": [
       "<div>\n",
       "<style scoped>\n",
       "    .dataframe tbody tr th:only-of-type {\n",
       "        vertical-align: middle;\n",
       "    }\n",
       "\n",
       "    .dataframe tbody tr th {\n",
       "        vertical-align: top;\n",
       "    }\n",
       "\n",
       "    .dataframe thead th {\n",
       "        text-align: right;\n",
       "    }\n",
       "</style>\n",
       "<table border=\"1\" class=\"dataframe\">\n",
       "  <thead>\n",
       "    <tr style=\"text-align: right;\">\n",
       "      <th></th>\n",
       "      <th>t</th>\n",
       "      <th>R</th>\n",
       "    </tr>\n",
       "  </thead>\n",
       "  <tbody>\n",
       "    <tr>\n",
       "      <th>1</th>\n",
       "      <td>0.0</td>\n",
       "      <td>1.000000</td>\n",
       "    </tr>\n",
       "    <tr>\n",
       "      <th>2</th>\n",
       "      <td>5.0</td>\n",
       "      <td>0.816062</td>\n",
       "    </tr>\n",
       "    <tr>\n",
       "      <th>3</th>\n",
       "      <td>10.0</td>\n",
       "      <td>0.815385</td>\n",
       "    </tr>\n",
       "    <tr>\n",
       "      <th>4</th>\n",
       "      <td>15.0</td>\n",
       "      <td>0.769231</td>\n",
       "    </tr>\n",
       "    <tr>\n",
       "      <th>5</th>\n",
       "      <td>20.0</td>\n",
       "      <td>0.728745</td>\n",
       "    </tr>\n",
       "    <tr>\n",
       "      <th>6</th>\n",
       "      <td>25.0</td>\n",
       "      <td>0.668016</td>\n",
       "    </tr>\n",
       "    <tr>\n",
       "      <th>7</th>\n",
       "      <td>30.0</td>\n",
       "      <td>0.534413</td>\n",
       "    </tr>\n",
       "    <tr>\n",
       "      <th>8</th>\n",
       "      <td>35.0</td>\n",
       "      <td>0.381724</td>\n",
       "    </tr>\n",
       "    <tr>\n",
       "      <th>9</th>\n",
       "      <td>40.0</td>\n",
       "      <td>0.286293</td>\n",
       "    </tr>\n",
       "    <tr>\n",
       "      <th>10</th>\n",
       "      <td>45.0</td>\n",
       "      <td>0.286291</td>\n",
       "    </tr>\n",
       "    <tr>\n",
       "      <th>11</th>\n",
       "      <td>55.0</td>\n",
       "      <td>0.279872</td>\n",
       "    </tr>\n",
       "    <tr>\n",
       "      <th>12</th>\n",
       "      <td>inf</td>\n",
       "      <td>0.000000</td>\n",
       "    </tr>\n",
       "  </tbody>\n",
       "</table>\n",
       "</div>"
      ],
      "text/plain": [
       "       t         R\n",
       "1    0.0  1.000000\n",
       "2    5.0  0.816062\n",
       "3   10.0  0.815385\n",
       "4   15.0  0.769231\n",
       "5   20.0  0.728745\n",
       "6   25.0  0.668016\n",
       "7   30.0  0.534413\n",
       "8   35.0  0.381724\n",
       "9   40.0  0.286293\n",
       "10  45.0  0.286291\n",
       "11  55.0  0.279872\n",
       "12   inf  0.000000"
      ]
     },
     "execution_count": 4,
     "metadata": {},
     "output_type": "execute_result"
    }
   ],
   "source": [
    "from ramsmod.fitting import turnbull_fit\n",
    "\n",
    "tb_fd1 = turnbull_fit(fd1['tmin'], fd1['tmax'])\n",
    "tb_fd1"
   ]
  },
  {
   "cell_type": "markdown",
   "metadata": {},
   "source": [
    "The index of the DataFrame gives the indices of the time grid points (from 1 to $m$ where $m$ is the number of distinct interval bound times) used in the Turnbull method. The first column, labelled 't', gives the time values for these time grid points whilst the second column, labelled 'R', gives the corresponding reliability estimates. \n",
    "### Plot reliability curve\n",
    "The reliability estimates can now be plotted using the `plot_np_reliability` function from the plotting module of the ramsmod library. This function is described in the [example for right-censored data](right-censored-example.ipynb)."
   ]
  },
  {
   "cell_type": "code",
   "execution_count": 5,
   "metadata": {},
   "outputs": [
    {
     "data": {
      "text/plain": [
       "<AxesSubplot:xlabel='$t$', ylabel='$\\\\widehat R(t)$'>"
      ]
     },
     "execution_count": 5,
     "metadata": {},
     "output_type": "execute_result"
    },
    {
     "data": {
      "image/png": "[encoded data removed]",
      "text/plain": [
       "<Figure size 432x288 with 1 Axes>"
      ]
     },
     "metadata": {
      "needs_background": "light"
     },
     "output_type": "display_data"
    }
   ],
   "source": [
    "from ramsmod.plotting import plot_np_reliability\n",
    "\n",
    "plot_np_reliability(tb_fd1['t'], tb_fd1['R'])"
   ]
  },
  {
   "cell_type": "markdown",
   "metadata": {},
   "source": [
    "The plotted curve shows that reliability is estimated to falls to approximately 0.8 after 10 time units and approximately 0.5 by 35 time units (i.e. the estimated median failure time).\n",
    "### Load and analyse data set 2\n",
    "A second set of interval censored failure data, from the file [interval-censored-2.csv](../ramsmod/datasets/interval-censored-1.csv), will now be loaded into a DataFrame and analysed in the same way using the Turnbull method."
   ]
  },
  {
   "cell_type": "code",
   "execution_count": 6,
   "metadata": {},
   "outputs": [
    {
     "data": {
      "text/html": [
       "<div>\n",
       "<style scoped>\n",
       "    .dataframe tbody tr th:only-of-type {\n",
       "        vertical-align: middle;\n",
       "    }\n",
       "\n",
       "    .dataframe tbody tr th {\n",
       "        vertical-align: top;\n",
       "    }\n",
       "\n",
       "    .dataframe thead th {\n",
       "        text-align: right;\n",
       "    }\n",
       "</style>\n",
       "<table border=\"1\" class=\"dataframe\">\n",
       "  <thead>\n",
       "    <tr style=\"text-align: right;\">\n",
       "      <th></th>\n",
       "      <th>tmin</th>\n",
       "      <th>tmax</th>\n",
       "    </tr>\n",
       "    <tr>\n",
       "      <th>Observation #</th>\n",
       "      <th></th>\n",
       "      <th></th>\n",
       "    </tr>\n",
       "  </thead>\n",
       "  <tbody>\n",
       "    <tr>\n",
       "      <th>1</th>\n",
       "      <td>0</td>\n",
       "      <td>15.0</td>\n",
       "    </tr>\n",
       "    <tr>\n",
       "      <th>2</th>\n",
       "      <td>35</td>\n",
       "      <td>inf</td>\n",
       "    </tr>\n",
       "    <tr>\n",
       "      <th>3</th>\n",
       "      <td>0</td>\n",
       "      <td>10.0</td>\n",
       "    </tr>\n",
       "    <tr>\n",
       "      <th>4</th>\n",
       "      <td>15</td>\n",
       "      <td>20.0</td>\n",
       "    </tr>\n",
       "    <tr>\n",
       "      <th>5</th>\n",
       "      <td>10</td>\n",
       "      <td>15.0</td>\n",
       "    </tr>\n",
       "    <tr>\n",
       "      <th>6</th>\n",
       "      <td>15</td>\n",
       "      <td>20.0</td>\n",
       "    </tr>\n",
       "    <tr>\n",
       "      <th>7</th>\n",
       "      <td>0</td>\n",
       "      <td>10.0</td>\n",
       "    </tr>\n",
       "    <tr>\n",
       "      <th>8</th>\n",
       "      <td>35</td>\n",
       "      <td>40.0</td>\n",
       "    </tr>\n",
       "    <tr>\n",
       "      <th>9</th>\n",
       "      <td>15</td>\n",
       "      <td>20.0</td>\n",
       "    </tr>\n",
       "    <tr>\n",
       "      <th>10</th>\n",
       "      <td>0</td>\n",
       "      <td>15.0</td>\n",
       "    </tr>\n",
       "    <tr>\n",
       "      <th>11</th>\n",
       "      <td>35</td>\n",
       "      <td>40.0</td>\n",
       "    </tr>\n",
       "    <tr>\n",
       "      <th>12</th>\n",
       "      <td>15</td>\n",
       "      <td>20.0</td>\n",
       "    </tr>\n",
       "    <tr>\n",
       "      <th>13</th>\n",
       "      <td>0</td>\n",
       "      <td>10.0</td>\n",
       "    </tr>\n",
       "    <tr>\n",
       "      <th>14</th>\n",
       "      <td>5</td>\n",
       "      <td>10.0</td>\n",
       "    </tr>\n",
       "    <tr>\n",
       "      <th>15</th>\n",
       "      <td>25</td>\n",
       "      <td>inf</td>\n",
       "    </tr>\n",
       "    <tr>\n",
       "      <th>16</th>\n",
       "      <td>20</td>\n",
       "      <td>25.0</td>\n",
       "    </tr>\n",
       "    <tr>\n",
       "      <th>17</th>\n",
       "      <td>0</td>\n",
       "      <td>15.0</td>\n",
       "    </tr>\n",
       "    <tr>\n",
       "      <th>18</th>\n",
       "      <td>20</td>\n",
       "      <td>inf</td>\n",
       "    </tr>\n",
       "    <tr>\n",
       "      <th>19</th>\n",
       "      <td>0</td>\n",
       "      <td>5.0</td>\n",
       "    </tr>\n",
       "    <tr>\n",
       "      <th>20</th>\n",
       "      <td>20</td>\n",
       "      <td>inf</td>\n",
       "    </tr>\n",
       "    <tr>\n",
       "      <th>21</th>\n",
       "      <td>10</td>\n",
       "      <td>15.0</td>\n",
       "    </tr>\n",
       "    <tr>\n",
       "      <th>22</th>\n",
       "      <td>10</td>\n",
       "      <td>15.0</td>\n",
       "    </tr>\n",
       "    <tr>\n",
       "      <th>23</th>\n",
       "      <td>10</td>\n",
       "      <td>15.0</td>\n",
       "    </tr>\n",
       "    <tr>\n",
       "      <th>24</th>\n",
       "      <td>25</td>\n",
       "      <td>30.0</td>\n",
       "    </tr>\n",
       "  </tbody>\n",
       "</table>\n",
       "</div>"
      ],
      "text/plain": [
       "               tmin  tmax\n",
       "Observation #            \n",
       "1                 0  15.0\n",
       "2                35   inf\n",
       "3                 0  10.0\n",
       "4                15  20.0\n",
       "5                10  15.0\n",
       "6                15  20.0\n",
       "7                 0  10.0\n",
       "8                35  40.0\n",
       "9                15  20.0\n",
       "10                0  15.0\n",
       "11               35  40.0\n",
       "12               15  20.0\n",
       "13                0  10.0\n",
       "14                5  10.0\n",
       "15               25   inf\n",
       "16               20  25.0\n",
       "17                0  15.0\n",
       "18               20   inf\n",
       "19                0   5.0\n",
       "20               20   inf\n",
       "21               10  15.0\n",
       "22               10  15.0\n",
       "23               10  15.0\n",
       "24               25  30.0"
      ]
     },
     "execution_count": 6,
     "metadata": {},
     "output_type": "execute_result"
    }
   ],
   "source": [
    "fd2 = load_interval_censored_data2()\n",
    "fd2"
   ]
  },
  {
   "cell_type": "code",
   "execution_count": 7,
   "metadata": {},
   "outputs": [
    {
     "data": {
      "text/plain": [
       "<AxesSubplot:xlabel='Time', ylabel='Observation #'>"
      ]
     },
     "execution_count": 7,
     "metadata": {},
     "output_type": "execute_result"
    },
    {
     "data": {
      "image/png": "[encoded data removed]",
      "text/plain": [
       "<Figure size 432x288 with 1 Axes>"
      ]
     },
     "metadata": {
      "needs_background": "light"
     },
     "output_type": "display_data"
    }
   ],
   "source": [
    "plot_interval_censored(fd2['tmin'], fd2['tmax'])"
   ]
  },
  {
   "cell_type": "code",
   "execution_count": 8,
   "metadata": {},
   "outputs": [
    {
     "data": {
      "text/plain": [
       "<matplotlib.legend.Legend at 0x2472f693820>"
      ]
     },
     "execution_count": 8,
     "metadata": {},
     "output_type": "execute_result"
    },
    {
     "data": {
      "image/png": "[encoded data removed]",
      "text/plain": [
       "<Figure size 432x288 with 1 Axes>"
      ]
     },
     "metadata": {
      "needs_background": "light"
     },
     "output_type": "display_data"
    }
   ],
   "source": [
    "import matplotlib.pyplot as plt\n",
    "\n",
    "tb_fd2 = turnbull_fit(fd2['tmin'], fd2['tmax'])\n",
    "\n",
    "plot_np_reliability(tb_fd1['t'], tb_fd1['R'], color='blue', label='Data set 1')\n",
    "plot_np_reliability(tb_fd2['t'], tb_fd2['R'], color='red', label='Data set 2')\n",
    "plt.legend()"
   ]
  },
  {
   "cell_type": "markdown",
   "metadata": {},
   "source": [
    "Plotting the reliability curves estimated from the two sets of failure data on the same axes suggests that data set 2 may be from a population with lower reliability than data set 1.\n",
    "### Perform Mantel test to compare reliability\n",
    "To see if this difference is statistically significant, a Mantel test will be performed at the 5% significance level. To do this the `mantel_test` function from the stats module of the ramsmod library will be used. This function takes four required arguments that are all Pandas DataSeries: the lower bounds for the failure intervals of the group 1 observations, the upper bounds for the failure intervals of the group 1 observations, the lower bounds for the failure intervals of the group 2 observations, and the upper bounds for the failure intervals of the group 2 observations. It returns a tuple of a DataFrame giving the values from the Mantel test calculation corresponding to each observation (first those from group 1, followed by those from group 2), the value of the Mantel test statistic (W), the estimated variance, and the P-value for the test."
   ]
  },
  {
   "cell_type": "code",
   "execution_count": 9,
   "metadata": {},
   "outputs": [
    {
     "name": "stdout",
     "output_type": "stream",
     "text": [
      "Mantel test statistic (W): 228.00, Estimated variance: 8842.462, P-value: 0.015\n"
     ]
    },
    {
     "data": {
      "text/html": [
       "<div>\n",
       "<style scoped>\n",
       "    .dataframe tbody tr th:only-of-type {\n",
       "        vertical-align: middle;\n",
       "    }\n",
       "\n",
       "    .dataframe tbody tr th {\n",
       "        vertical-align: top;\n",
       "    }\n",
       "\n",
       "    .dataframe thead th {\n",
       "        text-align: right;\n",
       "    }\n",
       "</style>\n",
       "<table border=\"1\" class=\"dataframe\">\n",
       "  <thead>\n",
       "    <tr style=\"text-align: right;\">\n",
       "      <th></th>\n",
       "      <th>t_min</th>\n",
       "      <th>t_max</th>\n",
       "      <th>later</th>\n",
       "      <th>earlier</th>\n",
       "      <th>v</th>\n",
       "    </tr>\n",
       "    <tr>\n",
       "      <th>Observation #</th>\n",
       "      <th></th>\n",
       "      <th></th>\n",
       "      <th></th>\n",
       "      <th></th>\n",
       "      <th></th>\n",
       "    </tr>\n",
       "  </thead>\n",
       "  <tbody>\n",
       "    <tr>\n",
       "      <th>1</th>\n",
       "      <td>55.0</td>\n",
       "      <td>inf</td>\n",
       "      <td>9.0</td>\n",
       "      <td>32.0</td>\n",
       "      <td>-23.0</td>\n",
       "    </tr>\n",
       "    <tr>\n",
       "      <th>2</th>\n",
       "      <td>30.0</td>\n",
       "      <td>35.0</td>\n",
       "      <td>33.0</td>\n",
       "      <td>0.0</td>\n",
       "      <td>33.0</td>\n",
       "    </tr>\n",
       "    <tr>\n",
       "      <th>3</th>\n",
       "      <td>15.0</td>\n",
       "      <td>20.0</td>\n",
       "      <td>28.0</td>\n",
       "      <td>8.0</td>\n",
       "      <td>20.0</td>\n",
       "    </tr>\n",
       "    <tr>\n",
       "      <th>4</th>\n",
       "      <td>30.0</td>\n",
       "      <td>35.0</td>\n",
       "      <td>18.0</td>\n",
       "      <td>26.0</td>\n",
       "      <td>-8.0</td>\n",
       "    </tr>\n",
       "    <tr>\n",
       "      <th>5</th>\n",
       "      <td>20.0</td>\n",
       "      <td>25.0</td>\n",
       "      <td>28.0</td>\n",
       "      <td>8.0</td>\n",
       "      <td>20.0</td>\n",
       "    </tr>\n",
       "  </tbody>\n",
       "</table>\n",
       "</div>"
      ],
      "text/plain": [
       "               t_min  t_max  later  earlier     v\n",
       "Observation #                                    \n",
       "1               55.0    inf    9.0     32.0 -23.0\n",
       "2               30.0   35.0   33.0      0.0  33.0\n",
       "3               15.0   20.0   28.0      8.0  20.0\n",
       "4               30.0   35.0   18.0     26.0  -8.0\n",
       "5               20.0   25.0   28.0      8.0  20.0"
      ]
     },
     "execution_count": 9,
     "metadata": {},
     "output_type": "execute_result"
    }
   ],
   "source": [
    "from ramsmod.stats import mantel_test\n",
    "\n",
    "\n",
    "table, w, var, p = mantel_test(fd1['tmin'], fd1['tmax'], fd2['tmin'], fd2['tmax'])\n",
    "print(f'Mantel test statistic (W): {w:.2f}, Estimated variance: {var:.3f}, P-value: {p:.3f}')\n",
    "table.head()"
   ]
  },
  {
   "cell_type": "markdown",
   "metadata": {},
   "source": [
    "Therefore, the null hypothesis that the two groups have the same reliability is rejected at the 5% significance level because the p-Value from the Mantel test of 0.015 is less than 0.050. Together with the reliability curves plot, the conclusion is therefore that group 2 has lower reliability than group 1."
   ]
  }
 ],
 "metadata": {
  "kernelspec": {
   "display_name": "Python 3",
   "language": "python",
   "name": "python3"
  },
  "language_info": {
   "codemirror_mode": {
    "name": "ipython",
    "version": 3
   },
   "file_extension": ".py",
   "mimetype": "text/x-python",
   "name": "python",
   "nbconvert_exporter": "python",
   "pygments_lexer": "ipython3",
   "version": "3.8.5"
  }
 },
 "nbformat": 4,
 "nbformat_minor": 4
}